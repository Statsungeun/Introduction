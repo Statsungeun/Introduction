{
  "nbformat": 4,
  "nbformat_minor": 0,
  "metadata": {
    "colab": {
      "provenance": [],
      "authorship_tag": "ABX9TyNMTk+BJHe+jvS986QSb8kt",
      "include_colab_link": true
    },
    "kernelspec": {
      "name": "python3",
      "display_name": "Python 3"
    },
    "language_info": {
      "name": "python"
    }
  },
  "cells": [
    {
      "cell_type": "markdown",
      "metadata": {
        "id": "view-in-github",
        "colab_type": "text"
      },
      "source": [
        "<a href=\"https://colab.research.google.com/github/Statsungeun/Introduction/blob/main/Untitled0.ipynb\" target=\"_parent\"><img src=\"https://colab.research.google.com/assets/colab-badge.svg\" alt=\"Open In Colab\"/></a>"
      ]
    },
    {
      "cell_type": "code",
      "execution_count": null,
      "metadata": {
        "id": "45VzlUzyXjfl",
        "colab": {
          "base_uri": "https://localhost:8080/"
        },
        "outputId": "c301709a-2e4f-4f58-8278-27b43315b824"
      },
      "outputs": [
        {
          "output_type": "stream",
          "name": "stdout",
          "text": [
            "예시 1: 6\n",
            "예시 2: 9\n",
            "예시 3: 8\n"
          ]
        }
      ],
      "source": [
        "def trap_water(heights):\n",
        "    if not heights:\n",
        "        return 0\n",
        "\n",
        "    n = len(heights)\n",
        "    left_max = [0] * n\n",
        "    right_max = [0] * n\n",
        "    water = 0\n",
        "\n",
        "    # 왼쪽에서 가장 높은 기둥을 찾음\n",
        "    left_max[0] = heights[0]\n",
        "    for i in range(1, n):\n",
        "        left_max[i] = max(left_max[i-1], heights[i])\n",
        "\n",
        "    # 오른쪽에서 가장 높은 기둥을 찾음\n",
        "    right_max[n-1] = heights[n-1]\n",
        "    for i in range(n-2, -1, -1):\n",
        "        right_max[i] = max(right_max[i+1], heights[i])\n",
        "\n",
        "    # 각 위치에서 담을 수 있는 물의 양을 계산\n",
        "    for i in range(n):\n",
        "        water += min(left_max[i], right_max[i]) - heights[i]\n",
        "\n",
        "    return water\n",
        "\n",
        "# 예시 입력\n",
        "heights1 = [0,1,0,2,1,0,1,3,2,1,2,1]\n",
        "heights2 = [4,2,0,3,2,5]\n",
        "heights3 = [3,0,1,3,0,5]\n",
        "\n",
        "# 결과 출력\n",
        "print(\"예시 1:\", trap_water(heights1))  # 출력: 6\n",
        "print(\"예시 2:\", trap_water(heights2))  # 출력: 9\n",
        "print(\"예시 3:\", trap_water(heights3))  # 출력: 8\n"
      ]
    },
    {
      "cell_type": "code",
      "source": [],
      "metadata": {
        "id": "zh2NMgfrR4b7"
      },
      "execution_count": null,
      "outputs": []
    }
  ]
}